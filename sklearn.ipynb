{
 "cells": [
  {
   "cell_type": "code",
   "execution_count": 4,
   "metadata": {},
   "outputs": [
    {
     "name": "stderr",
     "output_type": "stream",
     "text": [
      "C:\\Users\\15270\\Anaconda3\\lib\\site-packages\\sklearn\\utils\\deprecation.py:85: DeprecationWarning: Function fetch_mldata is deprecated; fetch_mldata was deprecated in version 0.20 and will be removed in version 0.22. Please use fetch_openml.\n",
      "  warnings.warn(msg, category=DeprecationWarning)\n",
      "C:\\Users\\15270\\Anaconda3\\lib\\site-packages\\sklearn\\utils\\deprecation.py:85: DeprecationWarning: Function mldata_filename is deprecated; mldata_filename was deprecated in version 0.20 and will be removed in version 0.22. Please use fetch_openml.\n",
      "  warnings.warn(msg, category=DeprecationWarning)\n"
     ]
    }
   ],
   "source": [
    "import numpy as np\n",
    "import matplotlib.pyplot as plt\n",
    "from sklearn.datasets import fetch_mldata\n",
    "from sklearn.model_selection import train_test_split\n",
    "\n",
    "# download and read mnist\n",
    "mnist = fetch_mldata('MNIST original', data_home='./')\n",
    "\n",
    "# 'mnist.data' is 70k x 784 array, each row represents the pixels from a 28x28=784 image\n",
    "# 'mnist.target' is 70k x 1 array, each row represents the target class of the corresponding image\n",
    "images = mnist.data\n",
    "targets = mnist.target\n",
    "\n",
    "# make the value of pixels from [0, 255] to [0, 1] for further process\n",
    "X = mnist.data / 255.\n",
    "Y = mnist.target\n",
    "\n",
    "X_train, X_test, Y_train, Y_test = train_test_split(X[::10], Y[::10], test_size=1000)"
   ]
  },
  {
   "cell_type": "code",
   "execution_count": 5,
   "metadata": {},
   "outputs": [
    {
     "name": "stderr",
     "output_type": "stream",
     "text": [
      "C:\\Users\\15270\\Anaconda3\\lib\\site-packages\\sklearn\\linear_model\\logistic.py:432: FutureWarning: Default solver will be changed to 'lbfgs' in 0.22. Specify a solver to silence this warning.\n",
      "  FutureWarning)\n",
      "C:\\Users\\15270\\Anaconda3\\lib\\site-packages\\sklearn\\linear_model\\logistic.py:469: FutureWarning: Default multi_class will be changed to 'auto' in 0.22. Specify the multi_class option to silence this warning.\n",
      "  \"this warning.\", FutureWarning)\n"
     ]
    },
    {
     "name": "stdout",
     "output_type": "stream",
     "text": [
      "Training accuracy: 100.00%\n",
      "Testing accuracy: 90.20%\n"
     ]
    }
   ],
   "source": [
    "# TODO:use logistic regression                       Q1\n",
    "from sklearn.linear_model import LogisticRegression\n",
    "from sklearn import metrics\n",
    "\n",
    "classifier = LogisticRegression()\n",
    "classifier.fit(X_train, Y_train)\n",
    "\n",
    "x=classifier.predict(X_train)\n",
    "\n",
    "c=0\n",
    "for i in range(10):\n",
    "    if x[i] == Y_train[i]:\n",
    "        c+=1\n",
    "\n",
    "\n",
    "\n",
    "y = classifier.predict(X_test)\n",
    "\n",
    "d = 0\n",
    "for j in range(1000):\n",
    "    if y[j] == Y_test[j]:\n",
    "        d += 1\n",
    "\n",
    "\n",
    "print('Training accuracy: %0.2f%%' % (c/10.0*100))\n",
    "print('Testing accuracy: %0.2f%%' % (d/1000.0*100))"
   ]
  },
  {
   "cell_type": "code",
   "execution_count": 6,
   "metadata": {},
   "outputs": [
    {
     "name": "stdout",
     "output_type": "stream",
     "text": [
      "Training accuracy: 90.00%\n",
      "Testing accuracy: 83.00%\n"
     ]
    }
   ],
   "source": [
    "# TODO:use naive bayes                           Q2\n",
    "from sklearn.naive_bayes import BernoulliNB\n",
    "\n",
    "classifier = BernoulliNB()\n",
    "classifier.fit(X_train, Y_train)\n",
    "\n",
    "\n",
    "x=classifier.predict(X_train)\n",
    "\n",
    "c=0\n",
    "for i in range(10):\n",
    "    if x[i] == Y_train[i]:\n",
    "        c+=1\n",
    "\n",
    "\n",
    "\n",
    "y = classifier.predict(X_test)\n",
    "\n",
    "d = 0\n",
    "for j in range(1000):\n",
    "    if y[j] == Y_test[j]:\n",
    "        d += 1\n",
    "\n",
    "\n",
    "\n",
    "print('Training accuracy: %0.2f%%' % (c/10.0*100))\n",
    "print('Testing accuracy: %0.2f%%' % (d/1000.0*100))"
   ]
  },
  {
   "cell_type": "code",
   "execution_count": 7,
   "metadata": {},
   "outputs": [
    {
     "name": "stdout",
     "output_type": "stream",
     "text": [
      "Training accuracy: 100.00%\n",
      "Testing accuracy: 87.00%\n"
     ]
    },
    {
     "name": "stderr",
     "output_type": "stream",
     "text": [
      "C:\\Users\\15270\\Anaconda3\\lib\\site-packages\\sklearn\\svm\\base.py:929: ConvergenceWarning: Liblinear failed to converge, increase the number of iterations.\n",
      "  \"the number of iterations.\", ConvergenceWarning)\n"
     ]
    }
   ],
   "source": [
    "# TODO:use support vector machine                Q3\n",
    "from sklearn.svm import LinearSVC\n",
    "\n",
    "classifier = LinearSVC()\n",
    "classifier.fit(X_train, Y_train)\n",
    "\n",
    "\n",
    "x=classifier.predict(X_train)\n",
    "\n",
    "c=0\n",
    "for i in range(10):\n",
    "    if x[i] == Y_train[i]:\n",
    "        c+=1\n",
    "\n",
    "\n",
    "\n",
    "y = classifier.predict(X_test)\n",
    "\n",
    "d = 0\n",
    "for j in range(1000):\n",
    "    if y[j] == Y_test[j]:\n",
    "        d += 1\n",
    "\n",
    "\n",
    "\n",
    "print('Training accuracy: %0.2f%%' % (c/10.0*100))\n",
    "print('Testing accuracy: %0.2f%%' % (d/1000.0*100))\n"
   ]
  },
  {
   "cell_type": "code",
   "execution_count": 9,
   "metadata": {},
   "outputs": [
    {
     "name": "stdout",
     "output_type": "stream",
     "text": [
      "Training accuracy: 100.00%\n",
      "Testing accuracy: 87.20%\n"
     ]
    },
    {
     "name": "stderr",
     "output_type": "stream",
     "text": [
      "C:\\Users\\15270\\Anaconda3\\lib\\site-packages\\sklearn\\svm\\base.py:929: ConvergenceWarning: Liblinear failed to converge, increase the number of iterations.\n",
      "  \"the number of iterations.\", ConvergenceWarning)\n"
     ]
    }
   ],
   "source": [
    "#Q4\n",
    "classifier = LinearSVC(C=0.8)\n",
    "classifier.fit(X_train, Y_train)\n",
    "\n",
    "\n",
    "x=classifier.predict(X_train)\n",
    "\n",
    "c=0\n",
    "for i in range(10):\n",
    "    if x[i] == Y_train[i]:\n",
    "        c+=1\n",
    "\n",
    "\n",
    "\n",
    "y = classifier.predict(X_test)\n",
    "\n",
    "d = 0\n",
    "for j in range(1000):\n",
    "    if y[j] == Y_test[j]:\n",
    "        d += 1\n",
    "\n",
    "\n",
    "\n",
    "print('Training accuracy: %0.2f%%' % (c/10.0*100))\n",
    "print('Testing accuracy: %0.2f%%' % (d/1000.0*100))"
   ]
  },
  {
   "cell_type": "code",
   "execution_count": null,
   "metadata": {},
   "outputs": [],
   "source": []
  }
 ],
 "metadata": {
  "kernelspec": {
   "display_name": "Python 3",
   "language": "python",
   "name": "python3"
  },
  "language_info": {
   "codemirror_mode": {
    "name": "ipython",
    "version": 3
   },
   "file_extension": ".py",
   "mimetype": "text/x-python",
   "name": "python",
   "nbconvert_exporter": "python",
   "pygments_lexer": "ipython3",
   "version": "3.7.4"
  }
 },
 "nbformat": 4,
 "nbformat_minor": 2
}
